{
 "cells": [
  {
   "cell_type": "code",
   "execution_count": null,
   "metadata": {},
   "outputs": [],
   "source": [
    "#QUADRATIC EQUATION ax**2+bx+c=0\n",
    "\n",
    "\n",
    "import math\n",
    "a=int(input(\"Enter the value of a: \"))\n",
    "b=int(input(\"Enter the value of b: \"))\n",
    "c=int(input(\"Enter the value of c: \"))\n",
    "d=((b**2)-4*a*c)      #d= discriminant\n",
    "\n",
    "print()\n",
    "if d>0:\n",
    "    print(\"..TWO DISCTINCT REAL ROOTS..\")\n",
    "    r1=((-b)+math.sqrt(d))/(2*a)\n",
    "    r2=((-b)-math.sqrt(d))/(2*a)\n",
    "    print(\"First root: \",int(r1))\n",
    "    print(\"Second root: \",int(r2))\n",
    "elif d==0:\n",
    "    print(\"..TWO EQUAL REAL ROOTS..\")\n",
    "    r=(-b)/(2*a)\n",
    "    print(\"First root: \",int(r))\n",
    "    print(\"Second root: \",int(r))\n",
    "else:\n",
    "    print(\"..IMAGINARY ROOTS..\")\n",
    "    "
   ]
  }
 ],
 "metadata": {
  "kernelspec": {
   "display_name": "Python 3",
   "language": "python",
   "name": "python3"
  },
  "language_info": {
   "codemirror_mode": {
    "name": "ipython",
    "version": 3
   },
   "file_extension": ".py",
   "mimetype": "text/x-python",
   "name": "python",
   "nbconvert_exporter": "python",
   "pygments_lexer": "ipython3",
   "version": "3.8.5"
  }
 },
 "nbformat": 4,
 "nbformat_minor": 4
}
